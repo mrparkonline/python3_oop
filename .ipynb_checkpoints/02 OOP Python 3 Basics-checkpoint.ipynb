{
 "cells": [
  {
   "cell_type": "markdown",
   "metadata": {},
   "source": [
    "# Basics of OOP with Python 3\n",
    "---\n",
    "\n",
    "To create usable object in Python 3, we must create a _classification_ of it which defines what this object's attributes and methods are.\n",
    "\n",
    "## Keyword: _class_\n",
    "\n",
    "Much like **def** for function definition, we have **class** to classify what our object is.\n",
    "\n",
    "It follows the following format:\n",
    "\n",
    "```python\n",
    "\n",
    "class ClassName:\n",
    "    # Insert your code here\n",
    "\n",
    "# end of ClassName  \n",
    "\n",
    "# To create an instance:\n",
    "random_variable = ClassName()\n",
    "print(random_variable) # if ClassName() object was printable then it would print a message.\n",
    "```"
   ]
  },
  {
   "cell_type": "code",
   "execution_count": null,
   "metadata": {},
   "outputs": [],
   "source": []
  }
 ],
 "metadata": {
  "kernelspec": {
   "display_name": "Python 3",
   "language": "python",
   "name": "python3"
  },
  "language_info": {
   "codemirror_mode": {
    "name": "ipython",
    "version": 3
   },
   "file_extension": ".py",
   "mimetype": "text/x-python",
   "name": "python",
   "nbconvert_exporter": "python",
   "pygments_lexer": "ipython3",
   "version": "3.6.10"
  }
 },
 "nbformat": 4,
 "nbformat_minor": 4
}
